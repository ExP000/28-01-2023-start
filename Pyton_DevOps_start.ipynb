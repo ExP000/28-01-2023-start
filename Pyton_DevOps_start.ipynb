{
  "nbformat": 4,
  "nbformat_minor": 0,
  "metadata": {
    "colab": {
      "provenance": [],
      "toc_visible": true,
      "authorship_tag": "ABX9TyPNRb1I19d4Hq3baZVa/cCT",
      "include_colab_link": true
    },
    "kernelspec": {
      "name": "python3",
      "display_name": "Python 3"
    },
    "language_info": {
      "name": "python"
    }
  },
  "cells": [
    {
      "cell_type": "markdown",
      "metadata": {
        "id": "view-in-github",
        "colab_type": "text"
      },
      "source": [
        "<a href=\"https://colab.research.google.com/github/ExP000/DevOps-start/blob/main/Pyton_DevOps_start.ipynb\" target=\"_parent\"><img src=\"https://colab.research.google.com/assets/colab-badge.svg\" alt=\"Open In Colab\"/></a>"
      ]
    },
    {
      "cell_type": "markdown",
      "source": [
        "#Introduction to Python"
      ],
      "metadata": {
        "id": "_wsiMSWV5Rbm"
      }
    },
    {
      "cell_type": "markdown",
      "source": [
        "## Statments in Python"
      ],
      "metadata": {
        "id": "I7fLjmez5I0L"
      }
    },
    {
      "cell_type": "markdown",
      "source": [
        "##Datastructures: Lists and Dictionaries\n"
      ],
      "metadata": {
        "id": "uEyUJj4P58Dl"
      }
    },
    {
      "cell_type": "markdown",
      "source": [
        "### Dictionary "
      ],
      "metadata": {
        "id": "iGv6w3Gs6PJ_"
      }
    },
    {
      "cell_type": "code",
      "source": [],
      "metadata": {
        "id": "ObJtQu-56Rm6"
      },
      "execution_count": null,
      "outputs": []
    },
    {
      "cell_type": "markdown",
      "source": [
        "###Lists\n"
      ],
      "metadata": {
        "id": "STAObl0y6H4H"
      }
    },
    {
      "cell_type": "code",
      "execution_count": null,
      "metadata": {
        "id": "lYuIqKVC38W0"
      },
      "outputs": [],
      "source": []
    }
  ]
}